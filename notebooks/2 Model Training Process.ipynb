{
 "cells": [
  {
   "cell_type": "markdown",
   "id": "97a9eb23-c7da-47e0-b0da-9178d12f2e64",
   "metadata": {},
   "source": [
    "## Import"
   ]
  },
  {
   "cell_type": "code",
   "execution_count": null,
   "id": "67d4c6a7-6b58-4c5a-8b2a-756dca36817f",
   "metadata": {
    "tags": []
   },
   "outputs": [],
   "source": [
    "import os\n",
    "import pathlib\n",
    "import sys\n",
    "\n",
    "os.environ[\"TF_CPP_MIN_LOG_LEVEL\"] = \"3\"\n",
    "\n",
    "sys.path.append(pathlib.Path.cwd().parent.as_posix())\n",
    "import tensorflow as tf\n",
    "from keras.utils.layer_utils import count_params\n",
    "\n",
    "from src.models.lib.base import base_unet_pp\n",
    "from src.models.lib.builder import build_unet_pp\n",
    "from src.models.lib.config import UNetPPConfig\n",
    "from src.models.lib.loss import log_cosh_loss\n",
    "from src.models.lib.utils import loss_dict_gen\n",
    "from src.models.train_model import create_dataset"
   ]
  },
  {
   "cell_type": "markdown",
   "id": "f7f25aed-48ce-4c2f-b693-4cb3dee4943e",
   "metadata": {},
   "source": [
    "## Model Initialization\n",
    "\n"
   ]
  },
  {
   "cell_type": "code",
   "execution_count": null,
   "id": "a735fdab-aa9f-41d0-a59d-a62cbef47e78",
   "metadata": {},
   "outputs": [],
   "source": [
    "## Custom Model Initialization\n",
    "## Used for debugging\n",
    "\n",
    "custom_mobile_unet_pp_param = UNetPPConfig(\n",
    "    model_name=\"test_custom\",\n",
    "    upsample_mode=\"upsample\",\n",
    "    depth=3,\n",
    "    input_dim=(512, 512, 1),\n",
    "    batch_norm=True,\n",
    "    model_mode=\"mobile\",\n",
    "    n_class={\"bin\": 1, \"mult\": 4},\n",
    "    deep_supervision=False,\n",
    "    filter_list=[2, 2, 2],\n",
    "    downsample_iteration=[1, 1, 1],\n",
    ")\n",
    "\n",
    "custom_mobile_unet, custom_output_layers_name = build_unet_pp(\n",
    "    custom_mobile_unet_pp_param, custom=True\n",
    ")\n",
    "count_params(custom_mobile_unet.trainable_weights)"
   ]
  },
  {
   "cell_type": "markdown",
   "id": "644a4f7c-d013-497f-a16e-2e6afdfeed53",
   "metadata": {},
   "source": [
    "## Create Dataset"
   ]
  },
  {
   "cell_type": "code",
   "execution_count": null,
   "id": "ae8ea86a-d56f-4147-be93-df288224a783",
   "metadata": {
    "tags": []
   },
   "outputs": [],
   "source": [
    "project_root = pathlib.Path.cwd().parent\n",
    "coca_dataset = create_dataset(\n",
    "    project_root, custom_mobile_unet_pp_param, custom_output_layers_name, batch_size=1\n",
    ")"
   ]
  },
  {
   "cell_type": "code",
   "execution_count": null,
   "id": "b811fb1f-3369-453e-9dd6-e813af663930",
   "metadata": {
    "tags": []
   },
   "outputs": [],
   "source": [
    "train_coca_dataset = coca_dataset[\"train\"]\n",
    "val_coca_dataset = coca_dataset[\"val\"]"
   ]
  },
  {
   "cell_type": "markdown",
   "id": "aac3651c-dd88-454b-ad20-c86e68f8598f",
   "metadata": {},
   "source": [
    "## Model Compilation & Training"
   ]
  },
  {
   "cell_type": "code",
   "execution_count": null,
   "id": "268985d6-1a54-44ad-a239-739b63862698",
   "metadata": {
    "tags": []
   },
   "outputs": [],
   "source": [
    "loss_dict = loss_dict_gen(\n",
    "    custom_mobile_unet_pp_param,\n",
    "    custom_output_layers_name,\n",
    "    [log_cosh_loss, \"categorical_crossentropy\"],\n",
    ")\n",
    "\n",
    "custom_mobile_unet.compile(optimizer=\"adam\", loss=loss_dict)"
   ]
  },
  {
   "cell_type": "code",
   "execution_count": null,
   "id": "194cdf1e-ec00-4858-b88a-baa7d7f1bd83",
   "metadata": {
    "tags": []
   },
   "outputs": [],
   "source": [
    "custom_mobile_unet.fit(\n",
    "    train_coca_dataset, epochs=1, batch_size=1, validation_data=val_coca_dataset\n",
    ")"
   ]
  },
  {
   "cell_type": "code",
   "execution_count": null,
   "id": "433289d9-5b35-4ae6-b185-701bd7e6a86e",
   "metadata": {},
   "outputs": [],
   "source": [
    "custom_mobile_unet.summary()"
   ]
  }
 ],
 "metadata": {
  "kernelspec": {
   "display_name": "Python 3 (ipykernel)",
   "language": "python",
   "name": "python3"
  },
  "language_info": {
   "codemirror_mode": {
    "name": "ipython",
    "version": 3
   },
   "file_extension": ".py",
   "mimetype": "text/x-python",
   "name": "python",
   "nbconvert_exporter": "python",
   "pygments_lexer": "ipython3",
   "version": "3.10.8"
  }
 },
 "nbformat": 4,
 "nbformat_minor": 5
}
