{
 "cells": [
  {
   "cell_type": "code",
   "execution_count": null,
   "id": "40b39422-6633-4336-8331-b7a840a26008",
   "metadata": {
    "tags": []
   },
   "outputs": [],
   "source": [
    "import json\n",
    "import pathlib\n",
    "import sys\n",
    "\n",
    "import matplotlib.pyplot as plt\n",
    "import numpy as np\n",
    "import pydicom as pdc\n",
    "import tensorflow as tf\n",
    "\n",
    "sys.path.append(pathlib.Path.cwd().parent.as_posix())\n",
    "from src.data.preprocess.lib.tfrecord import create_example_fn, parsed_example_fn\n",
    "from src.data.preprocess.lib.utils import get_pos_from_bin_list, get_pos_from_mult_list\n",
    "from src.models.lib.data_loader import preprocess_img"
   ]
  },
  {
   "cell_type": "code",
   "execution_count": null,
   "id": "460204ec-65d0-41e5-9519-d423786270a2",
   "metadata": {
    "tags": []
   },
   "outputs": [],
   "source": [
    "project_root_path = pathlib.Path.cwd().parent\n",
    "\n",
    "patient_idx = 5\n",
    "patient_img_idx = 1\n",
    "\n",
    "clean_json_path = list(project_root_path.rglob(\"clean*.json\"))[0]\n",
    "\n",
    "with clean_json_path.open(mode=\"r\") as json_file:\n",
    "    clean_dict_output = json.load(json_file)\n",
    "\n",
    "patient_info = clean_dict_output[str(patient_idx).zfill(3)]\n",
    "\n",
    "\n",
    "patient_img_info = patient_info[patient_img_idx]\n",
    "\n",
    "patient_img_num = patient_img_info[\"idx\"]\n",
    "\n",
    "print(\n",
    "    f\"Patient {patient_idx} Image {patient_img_idx+1}/{len(patient_info)} ({patient_img_num})\"\n",
    ")\n",
    "\n",
    "patient_root_path = next(project_root_path.rglob(f\"patient/{patient_idx}\"))\n",
    "patient_dcm_path = next(\n",
    "    patient_root_path.rglob(f\"*00{str(patient_img_num).lstrip('0').zfill(2)}.dcm\")\n",
    ")\n",
    "\n",
    "patient_dcm = pdc.dcmread(patient_dcm_path)\n",
    "patient_img_arr = patient_dcm.pixel_array\n",
    "patient_img_hu = pdc.pixel_data_handlers.util.apply_modality_lut(\n",
    "    patient_img_arr, patient_dcm\n",
    ")\n",
    "\n",
    "patient_roi = patient_img_info[\"roi\"]\n",
    "plot_dict = {}\n",
    "\n",
    "for roi in patient_roi:\n",
    "    vessel_loc = roi[\"loc\"]\n",
    "    vessel_pos = plot_dict.get(vessel_loc, [])\n",
    "    vessel_pos.extend(roi[\"pos\"])\n",
    "    plot_dict[vessel_loc] = vessel_pos\n",
    "\n",
    "plot_dictfig, ax = plt.subplots(1, 3)\n",
    "\n",
    "ax[0].set_title(\"Image\")\n",
    "ax[0].imshow(patient_img_arr, cmap=\"gray\", interpolation=\"none\")\n",
    "\n",
    "ax[1].set_title(\"Multiclass Segment\")\n",
    "ax[1].imshow(np.ones([512, 512]), cmap=\"gray\")\n",
    "\n",
    "for loc, p in plot_dict.items():\n",
    "    temp = np.zeros((512, 512))\n",
    "    temp[tuple(zip(*p))] = 1\n",
    "    ax[1].imshow(np.transpose(temp), cmap=\"gray\", alpha=0.4)\n",
    "\n",
    "ax[2].set_title(\"ROI Overlay\")\n",
    "ax[2].imshow(patient_img_arr, cmap=\"gray\", interpolation=\"none\")\n",
    "for loc, p in plot_dict.items():\n",
    "    temp = np.zeros((512, 512))\n",
    "    temp[tuple(zip(*p))] = 1\n",
    "    ax[2].imshow(np.transpose(temp), cmap=\"gray\", alpha=0.5)\n",
    "    print(loc)\n",
    "    # break\n",
    "\n",
    "plt.tight_layout(pad=0.4, w_pad=0.5, h_pad=1.0)\n",
    "plt.show()"
   ]
  }
 ],
 "metadata": {
  "kernelspec": {
   "display_name": "Python 3 (ipykernel)",
   "language": "python",
   "name": "python3"
  },
  "language_info": {
   "codemirror_mode": {
    "name": "ipython",
    "version": 3
   },
   "file_extension": ".py",
   "mimetype": "text/x-python",
   "name": "python",
   "nbconvert_exporter": "python",
   "pygments_lexer": "ipython3",
   "version": "3.10.11"
  }
 },
 "nbformat": 4,
 "nbformat_minor": 5
}
