{
 "cells": [
  {
   "cell_type": "markdown",
   "id": "a3b4de7d-92cd-4794-86dd-203702b60ce4",
   "metadata": {},
   "source": [
    "# Import"
   ]
  },
  {
   "cell_type": "code",
   "execution_count": 7,
   "id": "bee77102-fdff-4cd4-a276-27a4636b800e",
   "metadata": {
    "tags": []
   },
   "outputs": [],
   "source": [
    "import json\n",
    "import pathlib\n",
    "import sys\n",
    "\n",
    "import numpy\n",
    "from tqdm import tqdm\n",
    "\n",
    "sys.path.append(pathlib.Path.cwd().parent.as_posix())\n",
    "from src.data.preprocess.lib.utils import filtered_patient_number_zfill_range"
   ]
  },
  {
   "cell_type": "markdown",
   "id": "f40ea336-f001-42dc-9bf1-628a4680cfa5",
   "metadata": {},
   "source": [
    "# Path"
   ]
  },
  {
   "cell_type": "code",
   "execution_count": 8,
   "id": "bc71de6f-c26d-40d9-96d4-32ec678af4cc",
   "metadata": {
    "tags": []
   },
   "outputs": [],
   "source": [
    "project_root = pathlib.Path.cwd().parent\n",
    "gated_root = list(project_root.rglob(\"Gated*\"))[0]"
   ]
  },
  {
   "cell_type": "markdown",
   "id": "2e90cf01-9298-4d2b-9fb5-1a6e632dcc30",
   "metadata": {},
   "source": [
    "# Finding class distribution"
   ]
  },
  {
   "cell_type": "code",
   "execution_count": 17,
   "id": "5ba54f97-f5b4-40f2-97e8-8b57f0b0169e",
   "metadata": {
    "tags": []
   },
   "outputs": [
    {
     "name": "stderr",
     "output_type": "stream",
     "text": [
      "100%|█████████████████████████████████████████████| 519/519 [00:41<00:00, 12.48it/s]\n",
      "100%|█████████████████████████████████████████████| 148/148 [00:11<00:00, 13.04it/s]\n",
      "100%|███████████████████████████████████████████████| 76/76 [00:05<00:00, 13.44it/s]\n"
     ]
    }
   ],
   "source": [
    "total_dcm = 0\n",
    "# patient_list = filtered_patient_number_zfill_range(0,789)\n",
    "split_dict = get_patient_split([0.7, 0.2, 0.1])\n",
    "\n",
    "for patient_list in split_dict.values():\n",
    "    for patient in tqdm(patient_list):\n",
    "        if patient != \"000\":\n",
    "            lstrip_patient = patient.lstrip(\"0\")\n",
    "        else:\n",
    "            lstrip_patient = \"0\"\n",
    "        patient_root = list(gated_root.rglob(lstrip_patient))[0]\n",
    "        total_dcm += len(list(patient_root.rglob(\"*.dcm\")))\n"
   ]
  },
  {
   "cell_type": "code",
   "execution_count": 18,
   "id": "29ecd49e-4e0b-4e4c-9fda-702c0879cb55",
   "metadata": {
    "tags": []
   },
   "outputs": [
    {
     "name": "stdout",
     "output_type": "stream",
     "text": [
      "total_dcm=36731\n",
      "total_pixel=9628811264\n"
     ]
    }
   ],
   "source": [
    "total_pixel = total_dcm*512*512\n",
    "print(f\"{total_dcm=}\")    \n",
    "print(f\"{total_pixel=}\")"
   ]
  },
  {
   "cell_type": "code",
   "execution_count": 19,
   "id": "07ea4462-f12e-4c7a-843e-5b9efdd2976d",
   "metadata": {
    "tags": []
   },
   "outputs": [
    {
     "name": "stderr",
     "output_type": "stream",
     "text": [
      "100%|██████████████████████████████████████████| 417/417 [00:00<00:00, 82129.26it/s]\n"
     ]
    }
   ],
   "source": [
    "clean_json_path = list(project_root.rglob(\"clean*.json\"))[0]\n",
    "segmentation_dict = {}\n",
    "with clean_json_path.open(mode=\"r\") as f:\n",
    "    clean_dict = json.load(f)\n",
    "    for images in tqdm(clean_dict.values()):\n",
    "        for image in images:\n",
    "            for lesion in image[\"roi\"]:\n",
    "                label = lesion[\"loc\"]\n",
    "                n_pos = len(lesion[\"loc\"])\n",
    "                segmentation_dict[label] = segmentation_dict.get(label,0) + n_pos\n",
    "background_pixel = total_pixel\n",
    "for segmentation in segmentation_dict.values():\n",
    "    background_pixel -=segmentation"
   ]
  },
  {
   "cell_type": "code",
   "execution_count": 20,
   "id": "2f94776d-d443-4540-b12f-b4abe673fae2",
   "metadata": {
    "tags": []
   },
   "outputs": [],
   "source": [
    "bg_percent = background_pixel/total_pixel*100\n",
    "rca_percent = segmentation_dict[\"RCA\"]/total_pixel*100\n",
    "lad_percent = segmentation_dict[\"LAD\"]/total_pixel*100\n",
    "lcx_percent = segmentation_dict[\"LCX\"]/total_pixel*100\n",
    "lca_percent = segmentation_dict[\"LCA\"]/total_pixel*100"
   ]
  },
  {
   "cell_type": "code",
   "execution_count": 21,
   "id": "1a6231f2-6183-438d-b29a-6e041dead18f",
   "metadata": {
    "tags": []
   },
   "outputs": [
    {
     "name": "stdout",
     "output_type": "stream",
     "text": [
      "bg_percent=99.9998261467637\n",
      "rca_percent=6.237530091024952e-05\n",
      "lad_percent=6.542863731844355e-05\n",
      "lcx_percent=3.819786159638657e-05\n",
      "lca_percent=7.851436478213226e-06\n"
     ]
    }
   ],
   "source": [
    "print(f\"{bg_percent=}\")\n",
    "print(f\"{rca_percent=}\")\n",
    "print(f\"{lad_percent=}\")\n",
    "print(f\"{lcx_percent=}\")\n",
    "print(f\"{lca_percent=}\")"
   ]
  },
  {
   "cell_type": "code",
   "execution_count": null,
   "id": "4b42fd78-2879-408a-aad1-54eb3f1d2b1a",
   "metadata": {},
   "outputs": [],
   "source": []
  }
 ],
 "metadata": {
  "kernelspec": {
   "display_name": "Python 3 (ipykernel)",
   "language": "python",
   "name": "python3"
  },
  "language_info": {
   "codemirror_mode": {
    "name": "ipython",
    "version": 3
   },
   "file_extension": ".py",
   "mimetype": "text/x-python",
   "name": "python",
   "nbconvert_exporter": "python",
   "pygments_lexer": "ipython3",
   "version": "3.10.11"
  }
 },
 "nbformat": 4,
 "nbformat_minor": 5
}
