{
 "cells": [
  {
   "cell_type": "markdown",
   "id": "a3b4de7d-92cd-4794-86dd-203702b60ce4",
   "metadata": {},
   "source": [
    "# Import"
   ]
  },
  {
   "cell_type": "code",
   "execution_count": 1,
   "id": "bee77102-fdff-4cd4-a276-27a4636b800e",
   "metadata": {
    "tags": []
   },
   "outputs": [],
   "source": [
    "import json\n",
    "import pathlib\n",
    "import sys\n",
    "\n",
    "import numpy\n",
    "from tqdm import tqdm\n",
    "\n",
    "sys.path.append(pathlib.Path.cwd().parent.as_posix())\n",
    "from src.data.preprocess.lib.utils import get_patient_split"
   ]
  },
  {
   "cell_type": "markdown",
   "id": "f40ea336-f001-42dc-9bf1-628a4680cfa5",
   "metadata": {},
   "source": [
    "# Path"
   ]
  },
  {
   "cell_type": "code",
   "execution_count": 2,
   "id": "bc71de6f-c26d-40d9-96d4-32ec678af4cc",
   "metadata": {
    "tags": []
   },
   "outputs": [],
   "source": [
    "project_root = pathlib.Path.cwd().parent\n",
    "gated_root = list(project_root.rglob(\"Gated*\"))[0]\n",
    "clean_json_path = list(project_root.rglob(\"clean*.json\"))[0]"
   ]
  },
  {
   "cell_type": "markdown",
   "id": "2e90cf01-9298-4d2b-9fb5-1a6e632dcc30",
   "metadata": {},
   "source": [
    "# Finding class distribution"
   ]
  },
  {
   "cell_type": "code",
   "execution_count": 3,
   "id": "c8af027f-98f2-413a-ba02-a5c9abc58e3e",
   "metadata": {
    "tags": []
   },
   "outputs": [
    {
     "name": "stderr",
     "output_type": "stream",
     "text": [
      "100%|███████████████████████████████████████████| 519/519 [00:00<00:00, 1219.44it/s]\n",
      "100%|███████████████████████████████████████████| 148/148 [00:00<00:00, 1153.52it/s]\n",
      "100%|█████████████████████████████████████████████| 76/76 [00:00<00:00, 1006.24it/s]\n",
      "100%|██████████████████████████████████████████| 417/417 [00:00<00:00, 14913.75it/s]\n"
     ]
    }
   ],
   "source": [
    "# Split the patients into training, validation, and test sets\n",
    "split_dict = get_patient_split([0.7, 0.2, 0.1])\n",
    "\n",
    "# Initialize the EDA (Exploratory Data Analysis) dictionary\n",
    "eda_dict = {}\n",
    "\n",
    "# Get the project root directory\n",
    "project_root = pathlib.Path.cwd().parent\n",
    "\n",
    "# Find the 'Gated*' directory\n",
    "gated_root = next(project_root.rglob(\"Gated*\"))\n",
    "\n",
    "# Find the 'clean*.json' file\n",
    "clean_json_path = next(project_root.rglob(\"clean*.json\"))\n",
    "\n",
    "# Calculate total dcm and pixel counts for each split\n",
    "for split_name, patient_list in split_dict.items():\n",
    "    total_dcm = 0\n",
    "    for patient in tqdm(patient_list):\n",
    "        # Remove leading zeros from patient ID\n",
    "        lstrip_patient = patient.lstrip(\"0\") if patient != \"000\" else \"0\"\n",
    "\n",
    "        # Find the patient's root directory\n",
    "        patient_root = next(gated_root.rglob(lstrip_patient))\n",
    "\n",
    "        # Count the number of dcm files\n",
    "        total_dcm += len(list(patient_root.rglob(\"*.dcm\")))\n",
    "\n",
    "    # Store the total dcm and pixel counts in the EDA dictionary\n",
    "    eda_dict[split_name + \"_dcm\"] = total_dcm\n",
    "    eda_dict[split_name + \"_pixel\"] = total_dcm * 512 * 512\n",
    "\n",
    "# Calculate the total dcm and pixel counts for the entire dataset\n",
    "for label in [\"dcm\", \"pixel\"]:\n",
    "    eda_dict[f\"total_{label}\"] = sum(\n",
    "        value for key, value in eda_dict.items() if label in key\n",
    "    )\n",
    "\n",
    "# Load the data from the clean JSON file\n",
    "with clean_json_path.open(mode=\"r\") as f:\n",
    "    clean_dict = json.load(f)\n",
    "\n",
    "    # Process each patient's images and lesions\n",
    "    for patient_num, images in tqdm(clean_dict.items()):\n",
    "        for split_name, split_list in split_dict.items():\n",
    "            if patient_num in split_list:\n",
    "                for image in images:\n",
    "                    for lesion in image[\"roi\"]:\n",
    "                        label = lesion[\"loc\"]\n",
    "                        n_pos = len(lesion[\"pos\"])\n",
    "\n",
    "                        # Generate keys for pixel and percent values\n",
    "                        total_pixel_key = f\"total_{label}_pixel\"\n",
    "                        total_percent_key = f\"total_{label}_percent\"\n",
    "                        total_bg_pixel_key = \"total_bg_pixel\"\n",
    "                        total_bg_percent_key = \"total_bg_percent\"\n",
    "                        split_pixel_key = f\"{split_name}_{label}_pixel\"\n",
    "                        split_bg_pixel_key = f\"{split_name}_bg_pixel\"\n",
    "                        split_percent_key = f\"{split_name}_{label}_percent\"\n",
    "                        split_bg_percent_key = f\"{split_name}_bg_percent\"\n",
    "\n",
    "                        # Update pixel and percent values\n",
    "\n",
    "                        eda_dict[total_bg_pixel_key] = (\n",
    "                            eda_dict.get(total_bg_pixel_key, 0) + n_pos\n",
    "                        )\n",
    "                        eda_dict[total_bg_percent_key] = (\n",
    "                            eda_dict.get(total_bg_percent_key, 100)\n",
    "                            - (n_pos / eda_dict[\"total_pixel\"]) * 100\n",
    "                        )\n",
    "                        eda_dict[split_bg_pixel_key] = (\n",
    "                            eda_dict.get(\n",
    "                                split_bg_pixel_key, eda_dict[split_name + \"_pixel\"]\n",
    "                            )\n",
    "                            - n_pos\n",
    "                        )\n",
    "                        eda_dict[split_bg_percent_key] = (\n",
    "                            eda_dict.get(split_bg_percent_key, 100)\n",
    "                            - (n_pos / eda_dict[split_name + \"_pixel\"]) * 100\n",
    "                        )\n",
    "\n",
    "                        eda_dict[total_pixel_key] = (\n",
    "                            eda_dict.get(total_pixel_key, 0) + n_pos\n",
    "                        )\n",
    "                        eda_dict[split_pixel_key] = (\n",
    "                            eda_dict.get(split_pixel_key, 0) + n_pos\n",
    "                        )\n",
    "                        eda_dict[split_percent_key] = (\n",
    "                            eda_dict.get(split_percent_key, 0)\n",
    "                            + (n_pos / eda_dict[split_name + \"_pixel\"]) * 100\n",
    "                        )\n",
    "                        eda_dict[total_percent_key] = (\n",
    "                            eda_dict.get(total_percent_key, 0)\n",
    "                            + (n_pos / eda_dict[\"total_pixel\"]) * 100\n",
    "                        )"
   ]
  },
  {
   "cell_type": "code",
   "execution_count": 4,
   "id": "93ac4d93-c96e-4ae1-87c3-c51505cd566c",
   "metadata": {
    "tags": []
   },
   "outputs": [
    {
     "name": "stdout",
     "output_type": "stream",
     "text": [
      "total_dcm 36731\n",
      "total_pixel 9628811264\n",
      "total_bg_pixel 334572\n",
      "total_bg_percent 99.99652530316776\n",
      "total_RCA_pixel 126648\n",
      "total_RCA_percent 0.0013153025490644813\n",
      "total_LAD_pixel 123034\n",
      "total_LAD_percent 0.001277769359339265\n",
      "total_LCX_pixel 68152\n",
      "total_LCX_percent 0.0007077924588137405\n",
      "total_LCA_pixel 16738\n",
      "total_LCA_percent 0.00017383246530731878\n"
     ]
    }
   ],
   "source": [
    "for key, value in eda_dict.items():\n",
    "    if \"total\" in key:\n",
    "        print(key, value)"
   ]
  },
  {
   "cell_type": "code",
   "execution_count": 5,
   "id": "2f94776d-d443-4540-b12f-b4abe673fae2",
   "metadata": {
    "tags": []
   },
   "outputs": [
    {
     "name": "stdout",
     "output_type": "stream",
     "text": [
      "train_dcm 25666\n",
      "train_pixel 6728187904\n",
      "train_bg_pixel 6727947276\n",
      "train_bg_percent 99.99642358383146\n",
      "train_RCA_pixel 92324\n",
      "train_RCA_percent 0.0013721971103855788\n",
      "train_LCX_pixel 46263\n",
      "train_LCX_percent 0.0006875997023284089\n",
      "train_LAD_pixel 89219\n",
      "train_LAD_percent 0.0013260479830974712\n",
      "train_LCA_pixel 12822\n",
      "train_LCA_percent 0.00019057137200905377\n"
     ]
    }
   ],
   "source": [
    "for key, value in eda_dict.items():\n",
    "    if \"train\" in key:\n",
    "        print(key, value)"
   ]
  },
  {
   "cell_type": "code",
   "execution_count": 6,
   "id": "1a6231f2-6183-438d-b29a-6e041dead18f",
   "metadata": {
    "tags": []
   },
   "outputs": [
    {
     "name": "stdout",
     "output_type": "stream",
     "text": [
      "test_dcm 3801\n",
      "test_pixel 996409344\n",
      "test_bg_pixel 996377069\n",
      "test_bg_percent 99.99676086939641\n",
      "test_LAD_pixel 10930\n",
      "test_LAD_percent 0.0010969387296311819\n",
      "test_RCA_pixel 13458\n",
      "test_RCA_percent 0.0013506497185156866\n",
      "test_LCX_pixel 6568\n",
      "test_LCX_percent 0.0006591668413739806\n",
      "test_LCA_pixel 1319\n",
      "test_LCA_percent 0.00013237531421624244\n"
     ]
    }
   ],
   "source": [
    "for key, value in eda_dict.items():\n",
    "    if \"test\" in key:\n",
    "        print(key, value)"
   ]
  },
  {
   "cell_type": "code",
   "execution_count": 7,
   "id": "4b42fd78-2879-408a-aad1-54eb3f1d2b1a",
   "metadata": {
    "tags": []
   },
   "outputs": [
    {
     "name": "stdout",
     "output_type": "stream",
     "text": [
      "val_dcm 7264\n",
      "val_pixel 1904214016\n",
      "val_bg_pixel 1904152347\n",
      "val_bg_percent 99.99676144595712\n",
      "val_RCA_pixel 20866\n",
      "val_RCA_percent 0.0010957801919676663\n",
      "val_LAD_pixel 22885\n",
      "val_LAD_percent 0.001201808190030673\n",
      "val_LCX_pixel 15321\n",
      "val_LCX_percent 0.0008045839318094798\n",
      "val_LCA_pixel 2597\n",
      "val_LCA_percent 0.00013638172905875722\n"
     ]
    }
   ],
   "source": [
    "for key, value in eda_dict.items():\n",
    "    if \"val\" in key:\n",
    "        print(key, value)"
   ]
  }
 ],
 "metadata": {
  "kernelspec": {
   "display_name": "Python 3 (ipykernel)",
   "language": "python",
   "name": "python3"
  },
  "language_info": {
   "codemirror_mode": {
    "name": "ipython",
    "version": 3
   },
   "file_extension": ".py",
   "mimetype": "text/x-python",
   "name": "python",
   "nbconvert_exporter": "python",
   "pygments_lexer": "ipython3",
   "version": "3.10.11"
  }
 },
 "nbformat": 4,
 "nbformat_minor": 5
}
