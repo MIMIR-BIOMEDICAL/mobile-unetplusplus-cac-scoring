{
 "cells": [
  {
   "cell_type": "code",
   "execution_count": null,
   "id": "00b7e104-f67e-4fbe-ad54-7a4eb0d5e210",
   "metadata": {
    "tags": []
   },
   "outputs": [],
   "source": [
    "import pathlib\n",
    "import sys\n",
    "\n",
    "import tensorflow as tf\n",
    "from tqdm import tqdm\n",
    "\n",
    "sys.path.append(pathlib.Path.cwd().parent.as_posix())\n",
    "from src.data.preprocess.lib.utils import get_patient_split\n",
    "from src.models.lib.builder import build_unet_pp\n",
    "from src.models.lib.config import UNetPPConfig\n",
    "from src.models.lib.loss import dice_coef, log_cosh_dice_loss\n",
    "from src.models.lib.utils import loss_dict_gen\n",
    "\n",
    "project_root_path = pathlib.Path.cwd().parent"
   ]
  },
  {
   "cell_type": "markdown",
   "id": "086daf94-be66-487e-8416-52db4cde869e",
   "metadata": {},
   "source": [
    "## Prepare Model"
   ]
  },
  {
   "cell_type": "markdown",
   "id": "7c6bb6af-8d14-48f9-888a-253d5293ed56",
   "metadata": {},
   "source": [
    "### Main Model Import"
   ]
  },
  {
   "cell_type": "code",
   "execution_count": null,
   "id": "b2836919-23a2-48a0-aac3-cb27e6410b2e",
   "metadata": {},
   "outputs": [],
   "source": [
    "# Select model\n",
    "model_root_path = project_root_path / \"models\" / \"path\"  # Change this\n",
    "model_paths = list((model_root_path).rglob(\"*model*\"))\n",
    "model_paths"
   ]
  },
  {
   "cell_type": "code",
   "execution_count": null,
   "id": "8f8bc23b-6aac-47f2-a4b7-249f5e904ade",
   "metadata": {},
   "outputs": [],
   "source": [
    "# Import main model\n",
    "selected_model_path = model_paths[0].as_posix()\n",
    "loss_func = log_cosh_dice_loss\n",
    "\n",
    "main_model = tf.keras.models.load_model(\n",
    "    selected_model_path,\n",
    "    custom_objects={\n",
    "        \"log_cosh_dice_loss\": loss_func,\n",
    "        \"dice_coef\": dice_coef,\n",
    "    },\n",
    ")"
   ]
  },
  {
   "cell_type": "markdown",
   "id": "1062489f-35e1-4080-8af4-5b1cb818ea8c",
   "metadata": {
    "tags": []
   },
   "source": [
    "### Pruned Model Creation"
   ]
  },
  {
   "cell_type": "code",
   "execution_count": null,
   "id": "4869cb68-8b48-4888-b2d5-f3cd320d3ba5",
   "metadata": {
    "tags": []
   },
   "outputs": [],
   "source": [
    "model_depth = 5\n",
    "filter_list = [16, 32, 64, 128, 256]\n",
    "downsample_iteration = [4, 3, 2, 2, 1]\n",
    "\n",
    "\n",
    "pruned_model = {}\n",
    "\n",
    "\n",
    "for depth in range(1, model_depth):\n",
    "    pruned_model[f\"d{depth}\"] = {}\n",
    "\n",
    "    model_config = UNetPPConfig(\n",
    "        model_name=f\"model_d{depth}\",\n",
    "        upsample_mode=\"upsample\",\n",
    "        depth=depth + 1,\n",
    "        input_dim=[512, 512, 1],\n",
    "        batch_norm=True,\n",
    "        deep_supervision=True,\n",
    "        model_mode=\"mobile\",\n",
    "        n_class={\"bin\": 1},\n",
    "        filter_list=filter_list[: depth + 1],\n",
    "        downsample_iteration=downsample_iteration[: depth + 1],\n",
    "    )\n",
    "\n",
    "    model, output_layer_name = build_unet_pp(model_config, custom=True)\n",
    "    if depth != model_depth - 1:\n",
    "        print(f\"-- Creating pruned model d{depth}\")\n",
    "        for layer in tqdm(model.layers):\n",
    "            pruned_layer_name = layer.name\n",
    "\n",
    "            main_model_layer = main_model.get_layer(pruned_layer_name)\n",
    "\n",
    "            main_model_weight = main_model_layer.get_weights()\n",
    "\n",
    "            layer.set_weights(main_model_weight)\n",
    "\n",
    "        pruned_model[f\"d{depth}\"][\"model\"] = model\n",
    "\n",
    "    loss_dict = loss_dict_gen(model_config, output_layer_name, [loss_func])\n",
    "\n",
    "    pruned_model[f\"d{depth}\"][\"dataset\"] = create_dataset(\n",
    "        project_root_path, model_config, 2, 2048\n",
    "    )\n",
    "\n",
    "    pruned_model[f\"d{depth}\"][\"config\"] = model_config\n",
    "    pruned_model[f\"d{depth}\"][\"loss_dict\"] = loss_dict\n",
    "\n",
    "pruned_model[f\"d{depth-1}\"][\"model\"] = main_model"
   ]
  },
  {
   "cell_type": "markdown",
   "id": "ebbc1766-0d8a-4fb5-b378-0d0a3f3e63b6",
   "metadata": {},
   "source": [
    "### Pruned Model Compilation"
   ]
  },
  {
   "cell_type": "code",
   "execution_count": null,
   "id": "707f1b21-bd9b-4be0-b261-5e5f924023a9",
   "metadata": {},
   "outputs": [],
   "source": [
    "for depth in range(1, model_depth):\n",
    "    metrics = [\n",
    "        dice_coef,\n",
    "        tf.keras.metrics.BinaryIoU(),\n",
    "        tf.keras.metrics.Recall(),\n",
    "        tf.keras.metrics.Precision(),\n",
    "        tf.keras.metrics.TruePositives(),\n",
    "        tf.keras.metrics.TrueNegatives(),\n",
    "        tf.keras.metrics.FalseNegatives(),\n",
    "        tf.keras.metrics.FalsePositives(),\n",
    "    ]\n",
    "\n",
    "    pruned_model[f\"d{depth}\"][\"model\"] = pruned_model[f\"d{depth}\"][\"model\"].compile(\n",
    "        optimizer=tf.keras.optimizers.legacy.Adam(),\n",
    "        loss=pruned_model[f\"d{depth}\"][\"loss_dict\"],\n",
    "        metrics=metrics,\n",
    "    )"
   ]
  },
  {
   "cell_type": "markdown",
   "id": "3585e21a-1b85-4aa0-b8e1-eb6cf7cef32c",
   "metadata": {},
   "source": [
    "### Evaluate Model"
   ]
  },
  {
   "cell_type": "code",
   "execution_count": null,
   "id": "c7a86592-1dd3-4d08-924d-11bf3e96a958",
   "metadata": {},
   "outputs": [],
   "source": [
    "for depth in range(1, model_depth):\n",
    "    print(f\"Evaluate model d{depth} on test dataset\")\n",
    "    pruned_model[f\"d{depth}\"][\"model\"].evaluate(\n",
    "        pruned_model[f\"d{depth}\"][\"model\"][\"test\"]\n",
    "    )"
   ]
  }
 ],
 "metadata": {
  "kernelspec": {
   "display_name": "Python 3 (ipykernel)",
   "language": "python",
   "name": "python3"
  },
  "language_info": {
   "codemirror_mode": {
    "name": "ipython",
    "version": 3
   },
   "file_extension": ".py",
   "mimetype": "text/x-python",
   "name": "python",
   "nbconvert_exporter": "python",
   "pygments_lexer": "ipython3",
   "version": "3.10.11"
  }
 },
 "nbformat": 4,
 "nbformat_minor": 5
}
