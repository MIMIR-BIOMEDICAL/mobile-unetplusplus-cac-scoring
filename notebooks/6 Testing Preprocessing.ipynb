{
 "cells": [
  {
   "cell_type": "code",
   "execution_count": 8,
   "id": "035853e5-1c49-4ab1-9eef-53ef3cf835f2",
   "metadata": {
    "tags": []
   },
   "outputs": [],
   "source": [
    "import pathlib\n",
    "import sys\n",
    "\n",
    "sys.path.append(pathlib.Path.cwd().parent.as_posix())\n",
    "from src.data.preprocess.lib.utils import (\n",
    "    blacklist_invalid_dicom,\n",
    "    blacklist_mislabelled_roi,\n",
    "    blacklist_multiple_image_id,\n",
    "    blacklist_no_image,\n",
    "    blacklist_pixel_overlap,\n",
    "    get_patient_split,\n",
    ")"
   ]
  },
  {
   "cell_type": "markdown",
   "id": "67fd109e-efa8-481f-bff9-182aa2314f79",
   "metadata": {},
   "source": [
    "## Selection"
   ]
  },
  {
   "cell_type": "code",
   "execution_count": 4,
   "id": "67429ae5-51ca-40dc-afb7-b300db5d1a07",
   "metadata": {
    "tags": []
   },
   "outputs": [
    {
     "data": {
      "text/plain": [
       "1"
      ]
     },
     "execution_count": 4,
     "metadata": {},
     "output_type": "execute_result"
    }
   ],
   "source": [
    "len(blacklist_invalid_dicom())"
   ]
  },
  {
   "cell_type": "code",
   "execution_count": 5,
   "id": "cbd40bcf-0a2b-434b-a98e-c84f657bc4ff",
   "metadata": {
    "tags": []
   },
   "outputs": [
    {
     "data": {
      "text/plain": [
       "15"
      ]
     },
     "execution_count": 5,
     "metadata": {},
     "output_type": "execute_result"
    }
   ],
   "source": [
    "len(blacklist_pixel_overlap())"
   ]
  },
  {
   "cell_type": "code",
   "execution_count": 6,
   "id": "8d018b95-b5e9-43dd-859a-833e8832b20e",
   "metadata": {
    "tags": []
   },
   "outputs": [
    {
     "data": {
      "text/plain": [
       "3"
      ]
     },
     "execution_count": 6,
     "metadata": {},
     "output_type": "execute_result"
    }
   ],
   "source": [
    "len(blacklist_no_image())"
   ]
  },
  {
   "cell_type": "code",
   "execution_count": 7,
   "id": "50b9c59a-13c0-4b11-a453-aa64eb2bd349",
   "metadata": {
    "tags": []
   },
   "outputs": [
    {
     "data": {
      "text/plain": [
       "27"
      ]
     },
     "execution_count": 7,
     "metadata": {},
     "output_type": "execute_result"
    }
   ],
   "source": [
    "len(blacklist_multiple_image_id())"
   ]
  },
  {
   "cell_type": "code",
   "execution_count": 15,
   "id": "5612d86a-32aa-4838-aaec-0dfa4c88094b",
   "metadata": {
    "tags": []
   },
   "outputs": [
    {
     "data": {
      "text/plain": [
       "2"
      ]
     },
     "execution_count": 15,
     "metadata": {},
     "output_type": "execute_result"
    }
   ],
   "source": [
    "len(blacklist_mislabelled_roi())"
   ]
  },
  {
   "cell_type": "markdown",
   "id": "06c47cee-25a2-42cb-9868-7091571e9dd3",
   "metadata": {},
   "source": [
    "## Flood Fill"
   ]
  },
  {
   "cell_type": "code",
   "execution_count": 23,
   "id": "3f320224-67ce-41a7-8323-ea28b1125e7a",
   "metadata": {
    "tags": []
   },
   "outputs": [],
   "source": [
    "import json\n",
    "\n",
    "import matplotlib.pyplot as plt\n",
    "import numpy as np"
   ]
  },
  {
   "cell_type": "code",
   "execution_count": 72,
   "id": "a6766ead-4525-4513-a836-e5dffa4c690b",
   "metadata": {
    "tags": []
   },
   "outputs": [],
   "source": [
    "project_root_path = pathlib.Path.cwd().parent\n",
    "clean_json_path = next(project_root_path.rglob(\"clean*.json\"))\n",
    "\n",
    "with clean_json_path.open(mode=\"r\") as json_file:\n",
    "    clean_json_dict = json.load(json_file)"
   ]
  },
  {
   "cell_type": "code",
   "execution_count": 91,
   "id": "cb943ec2-3d17-4be1-a00d-d40f68ec6252",
   "metadata": {
    "tags": []
   },
   "outputs": [
    {
     "data": {
      "text/plain": [
       "<matplotlib.image.AxesImage at 0x7f73784ce620>"
      ]
     },
     "execution_count": 91,
     "metadata": {},
     "output_type": "execute_result"
    },
    {
     "data": {
      "image/png": "[encoded data removed]",
      "text/plain": [
       "<Figure size 640x480 with 1 Axes>"
      ]
     },
     "metadata": {},
     "output_type": "display_data"
    }
   ],
   "source": [
    "pos = clean_json_dict[\"001\"][2][\"roi\"][0][\"pos\"]\n",
    "temp = np.zeros((512, 512))\n",
    "temp[tuple(zip(*pos))] = 1\n",
    "temp = np.transpose(temp)\n",
    "plt.axis(\"off\")\n",
    "# plt.imshow(temp[195:210,175:190],cmap=\"gray\") # 0\n",
    "# plt.imshow(temp[110:130,110:130],cmap=\"gray\") # 1\n",
    "plt.imshow(temp[130:150, 120:140], cmap=\"gray\")  # 2"
   ]
  },
  {
   "cell_type": "markdown",
   "id": "9e4c3760-4783-42bc-9be4-61d43f971fa7",
   "metadata": {},
   "source": [
    "## Preprocessing"
   ]
  },
  {
   "cell_type": "code",
   "execution_count": null,
   "id": "f2125154-55d4-4227-990f-0bfb0ed848ed",
   "metadata": {
    "tags": []
   },
   "outputs": [],
   "source": [
    "import pydicom as pdc\n",
    "import tensorflow as tf"
   ]
  },
  {
   "cell_type": "code",
   "execution_count": null,
   "id": "b3c86380-1126-4180-b799-6cb46541913d",
   "metadata": {},
   "outputs": [],
   "source": [
    "patient_idx = 0\n",
    "patient_img_idx = 1\n",
    "\n",
    "patient_root_path = next(project_root_path.rglob(f\"patient/{patient_idx}\"))\n",
    "patient_img_path = list(\n",
    "    patient_root_path.rglob(f\"*00{str(patient_img_idx).zfill(2)}.dcm\")\n",
    ")[0]\n",
    "\n",
    "dcm = pdc.dcmread(patient_img_path)\n",
    "dcm_arr = dcm.pixel_array\n",
    "dcm_hu = pdc.pixel_data_handlers.util.apply_modality_lut(dcm_arr, dcm)\n",
    "dcm_clip = tf.clip_by_value(dcm_hu, -800, 1200)\n",
    "dcm_norm = (dcm_clip - -800) / (1200 - -800)\n",
    "dcm_zero = dcm_norm - tf.reduce_mean(dcm_norm)\n",
    "\n",
    "fig, ax = plt.subplots(1, 5, figsize=(20, 100))\n",
    "\n",
    "for i, (im_name, img) in enumerate(\n",
    "    zip(\n",
    "        [\n",
    "            \"Raw Image\",\n",
    "            \"HU Image\",\n",
    "            \"Clipped Image\",\n",
    "            \"Normalized Image\",\n",
    "            \"Zero Centered Image\",\n",
    "        ],\n",
    "        [dcm_arr, dcm_hu, dcm_clip, dcm_norm, dcm_zero],\n",
    "    )\n",
    "):\n",
    "    ax[i].set_title(im_name)\n",
    "    ax[i].axis(\"off\")\n",
    "    img_ax = ax[i].imshow(img, cmap=\"gray\")\n",
    "    cax = fig.add_axes(\n",
    "        [\n",
    "            ax[i].get_position().x0,\n",
    "            ax[i].get_position().y0 - 0.002,\n",
    "            ax[i].get_position().width,\n",
    "            0.001,\n",
    "        ]\n",
    "    )\n",
    "    fig.colorbar(img_ax, cax=cax, orientation=\"horizontal\")"
   ]
  },
  {
   "cell_type": "markdown",
   "id": "f56f02f3-da03-4268-b9b0-6ae9ae5144d9",
   "metadata": {},
   "source": [
    "## Random Oversampling"
   ]
  },
  {
   "cell_type": "code",
   "execution_count": 10,
   "id": "c8b52c38-34c6-440d-8220-74c60e7f1cc8",
   "metadata": {
    "tags": []
   },
   "outputs": [],
   "source": [
    "d = get_patient_split([0.7, 0.2, 0.01])"
   ]
  },
  {
   "cell_type": "code",
   "execution_count": 12,
   "id": "cd949383-78c0-47f9-b1b0-878bd64ea6de",
   "metadata": {
    "tags": []
   },
   "outputs": [
    {
     "data": {
      "text/plain": [
       "291"
      ]
     },
     "execution_count": 12,
     "metadata": {},
     "output_type": "execute_result"
    }
   ],
   "source": [
    "len(d[\"train\"])"
   ]
  },
  {
   "cell_type": "code",
   "execution_count": 13,
   "id": "3b380fce-106b-4ee9-b1d1-e953370ddd38",
   "metadata": {
    "tags": []
   },
   "outputs": [
    {
     "data": {
      "text/plain": [
       "83"
      ]
     },
     "execution_count": 13,
     "metadata": {},
     "output_type": "execute_result"
    }
   ],
   "source": [
    "len(d[\"val\"])"
   ]
  },
  {
   "cell_type": "code",
   "execution_count": 14,
   "id": "ca8befc0-97c7-46a7-9a99-98c8edb2aac6",
   "metadata": {
    "tags": []
   },
   "outputs": [
    {
     "data": {
      "text/plain": [
       "206"
      ]
     },
     "execution_count": 14,
     "metadata": {},
     "output_type": "execute_result"
    }
   ],
   "source": [
    "len(d[\"test\"])"
   ]
  },
  {
   "cell_type": "code",
   "execution_count": null,
   "id": "2d52cc6a-32fb-4593-b04a-3f089669217a",
   "metadata": {},
   "outputs": [],
   "source": []
  }
 ],
 "metadata": {
  "kernelspec": {
   "display_name": "Python 3 (ipykernel)",
   "language": "python",
   "name": "python3"
  },
  "language_info": {
   "codemirror_mode": {
    "name": "ipython",
    "version": 3
   },
   "file_extension": ".py",
   "mimetype": "text/x-python",
   "name": "python",
   "nbconvert_exporter": "python",
   "pygments_lexer": "ipython3",
   "version": "3.10.11"
  }
 },
 "nbformat": 4,
 "nbformat_minor": 5
}
